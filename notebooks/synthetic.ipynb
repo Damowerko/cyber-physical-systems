{
 "cells": [
  {
   "cell_type": "code",
   "execution_count": 9,
   "metadata": {},
   "outputs": [],
   "source": [
    "%reload_ext autoreload\n",
    "%autoreload 2"
   ]
  },
  {
   "cell_type": "code",
   "execution_count": 10,
   "metadata": {},
   "outputs": [],
   "source": [
    "import numpy as np\n",
    "import torch\n",
    "import torch.nn as nn\n",
    "import matplotlib.pyplot as plt\n",
    "\n",
    "from torchcps.kernel import GaussianKernel\n",
    "from torchcps.kernel_cnn import KernelConv, KernelPool, KernelMap"
   ]
  },
  {
   "cell_type": "code",
   "execution_count": 11,
   "metadata": {},
   "outputs": [],
   "source": [
    "# create a datset of 2D signals with noise\n",
    "n_samples = 10000\n",
    "n_dimensions = 2\n",
    "n_measurements = 10\n",
    "\n",
    "with torch.no_grad():\n",
    "    targets = 50 * torch.rand(n_samples, n_dimensions) - 25\n",
    "    # convert to polar coordinates\n",
    "    targets_range = torch.norm(targets, dim=-1)\n",
    "    targets_bearing = torch.atan2(targets[..., 1], targets[..., 0])\n",
    "    # add noise to make measurements\n",
    "    measurements_range = (\n",
    "        targets_range[..., None] + torch.randn(n_samples, n_measurements) * 1.0\n",
    "    )\n",
    "    measurements_bearing = (\n",
    "        targets_bearing[..., None] + torch.randn(n_samples, n_measurements) * 0.5\n",
    "    )\n",
    "    # convert back to cartesian coordinates\n",
    "    measurements = torch.stack(\n",
    "        [\n",
    "            measurements_range * torch.cos(measurements_bearing),\n",
    "            measurements_range * torch.sin(measurements_bearing),\n",
    "        ],\n",
    "        dim=-1,\n",
    "    )"
   ]
  },
  {
   "cell_type": "code",
   "execution_count": 12,
   "metadata": {},
   "outputs": [
    {
     "data": {
      "text/plain": [
       "tensor(7.6462)"
      ]
     },
     "execution_count": 12,
     "metadata": {},
     "output_type": "execute_result"
    }
   ],
   "source": [
    "# evaluate naive strategy of taking mean of measurements\n",
    "input_mean = measurements.mean(dim=1)\n",
    "(input_mean - targets).pow(2).mean()"
   ]
  },
  {
   "cell_type": "code",
   "execution_count": 13,
   "metadata": {},
   "outputs": [],
   "source": [
    "class UnpackTuple(nn.Module):\n",
    "    def forward(self, input):\n",
    "        return input[0], input[1]\n",
    "\n",
    "\n",
    "n_channels = 1\n",
    "max_kernels = 16\n",
    "filter_kernels = 9\n",
    "fixed_positions = False\n",
    "kernel_size = 5.0\n",
    "pool_strategy = \"largest\"\n",
    "\n",
    "\n",
    "model_factory = lambda: nn.Sequential(\n",
    "    UnpackTuple(),\n",
    "    KernelConv(\n",
    "        filter_kernels=filter_kernels,\n",
    "        in_channels=1,\n",
    "        out_channels=n_channels,\n",
    "        n_dimensions=2,\n",
    "        kernel_spread=kernel_size,\n",
    "        fixed_positions=fixed_positions,\n",
    "    ),\n",
    "    KernelPool(\n",
    "        max_kernels,\n",
    "        GaussianKernel(kernel_size),\n",
    "        nn.ReLU(),\n",
    "        strategy=pool_strategy,\n",
    "    ),\n",
    "    KernelConv(\n",
    "        filter_kernels=filter_kernels,\n",
    "        in_channels=n_channels,\n",
    "        out_channels=n_channels,\n",
    "        n_dimensions=2,\n",
    "        kernel_spread=kernel_size * 2,\n",
    "        fixed_positions=fixed_positions,\n",
    "    ),\n",
    "    KernelPool(\n",
    "        max_kernels,\n",
    "        GaussianKernel(kernel_size * 2),\n",
    "        nn.ReLU(),\n",
    "        strategy=pool_strategy,\n",
    "    ),\n",
    "    KernelConv(\n",
    "        filter_kernels=filter_kernels,\n",
    "        in_channels=n_channels,\n",
    "        out_channels=1,\n",
    "        n_dimensions=2,\n",
    "        kernel_spread=kernel_size * 4,\n",
    "        fixed_positions=fixed_positions,\n",
    "    ),\n",
    "    KernelPool(\n",
    "        max_kernels,\n",
    "        GaussianKernel(kernel_size * 4),\n",
    "        nn.ReLU(),\n",
    "        strategy=pool_strategy,\n",
    "    ),\n",
    ").cuda()"
   ]
  },
  {
   "cell_type": "code",
   "execution_count": 14,
   "metadata": {},
   "outputs": [
    {
     "data": {
      "application/vnd.jupyter.widget-view+json": {
       "model_id": "a7bf0aa42d9a4f3dac5a0e182c8b2167",
       "version_major": 2,
       "version_minor": 0
      },
      "text/plain": [
       "  0%|          | 0/625 [00:00<?, ?it/s]"
      ]
     },
     "metadata": {},
     "output_type": "display_data"
    }
   ],
   "source": [
    "from torch.optim import AdamW\n",
    "from tqdm.notebook import tqdm\n",
    "from torch.utils.data import TensorDataset, DataLoader\n",
    "\n",
    "dataset = TensorDataset(measurements.cuda(), targets.cuda())\n",
    "dataloader = DataLoader(dataset, batch_size=16, shuffle=True)\n",
    "\n",
    "model = model_factory()\n",
    "optimizer = AdamW(model.parameters(), lr=1e-2, weight_decay=0)\n",
    "mse_values = []\n",
    "\n",
    "pbar = tqdm(dataloader, total=len(dataloader), position=1, leave=False)\n",
    "for x, y in pbar:\n",
    "    x = x[:, None, ...]\n",
    "    y = y[:, None, None, :]\n",
    "\n",
    "    x_weights = torch.ones(*x.shape[:-1], device=\"cuda\")\n",
    "    y_weights = torch.ones(*y.shape[:-1], device=\"cuda\")\n",
    "    z, z_weights = model((x, x_weights))\n",
    "\n",
    "    kernel = GaussianKernel(kernel_size)\n",
    "    mse = kernel.squared_error(y, y_weights, z, z_weights).mean(0).sum()\n",
    "\n",
    "    mse_values.append(mse.item())\n",
    "    pbar.set_postfix(loss=mse.item())\n",
    "\n",
    "    mse.backward()\n",
    "    optimizer.step()\n",
    "    optimizer.zero_grad()"
   ]
  },
  {
   "cell_type": "code",
   "execution_count": 15,
   "metadata": {},
   "outputs": [
    {
     "name": "stdout",
     "output_type": "stream",
     "text": [
      "1.0\n"
     ]
    },
    {
     "data": {
      "image/png": "[encoded data removed]",
      "text/plain": [
       "<Figure size 640x480 with 1 Axes>"
      ]
     },
     "metadata": {},
     "output_type": "display_data"
    }
   ],
   "source": [
    "print(np.mean(mse_values[-10:]))\n",
    "\n",
    "plt.figure()\n",
    "plt.plot(mse_values, label=\"MSE\")\n",
    "plt.legend()\n",
    "plt.show()"
   ]
  },
  {
   "cell_type": "code",
   "execution_count": 16,
   "metadata": {},
   "outputs": [
    {
     "ename": "NameError",
     "evalue": "name 'self' is not defined",
     "output_type": "error",
     "traceback": [
      "\u001b[0;31m---------------------------------------------------------------------------\u001b[0m",
      "\u001b[0;31mNameError\u001b[0m                                 Traceback (most recent call last)",
      "Cell \u001b[0;32mIn[16], line 9\u001b[0m\n\u001b[1;32m      6\u001b[0m x_weights \u001b[39m=\u001b[39m torch\u001b[39m.\u001b[39mones(\u001b[39m*\u001b[39mx\u001b[39m.\u001b[39mshape[:\u001b[39m-\u001b[39m\u001b[39m1\u001b[39m], device\u001b[39m=\u001b[39mx\u001b[39m.\u001b[39mdevice)\n\u001b[1;32m      7\u001b[0m y_weights \u001b[39m=\u001b[39m torch\u001b[39m.\u001b[39mones(\u001b[39m*\u001b[39my\u001b[39m.\u001b[39mshape[:\u001b[39m-\u001b[39m\u001b[39m1\u001b[39m], device\u001b[39m=\u001b[39my\u001b[39m.\u001b[39mdevice)\n\u001b[0;32m----> 9\u001b[0m z, z_weights \u001b[39m=\u001b[39m model((x, x_weights))\n\u001b[1;32m     11\u001b[0m \u001b[39m# squeeze all the tensors\u001b[39;00m\n\u001b[1;32m     12\u001b[0m x \u001b[39m=\u001b[39m x\u001b[39m.\u001b[39msqueeze()\u001b[39m.\u001b[39mcpu()\n",
      "File \u001b[0;32m~/.pyenv/versions/3.11.4/envs/torchcps/lib/python3.11/site-packages/torch/nn/modules/module.py:1501\u001b[0m, in \u001b[0;36mModule._call_impl\u001b[0;34m(self, *args, **kwargs)\u001b[0m\n\u001b[1;32m   1496\u001b[0m \u001b[39m# If we don't have any hooks, we want to skip the rest of the logic in\u001b[39;00m\n\u001b[1;32m   1497\u001b[0m \u001b[39m# this function, and just call forward.\u001b[39;00m\n\u001b[1;32m   1498\u001b[0m \u001b[39mif\u001b[39;00m \u001b[39mnot\u001b[39;00m (\u001b[39mself\u001b[39m\u001b[39m.\u001b[39m_backward_hooks \u001b[39mor\u001b[39;00m \u001b[39mself\u001b[39m\u001b[39m.\u001b[39m_backward_pre_hooks \u001b[39mor\u001b[39;00m \u001b[39mself\u001b[39m\u001b[39m.\u001b[39m_forward_hooks \u001b[39mor\u001b[39;00m \u001b[39mself\u001b[39m\u001b[39m.\u001b[39m_forward_pre_hooks\n\u001b[1;32m   1499\u001b[0m         \u001b[39mor\u001b[39;00m _global_backward_pre_hooks \u001b[39mor\u001b[39;00m _global_backward_hooks\n\u001b[1;32m   1500\u001b[0m         \u001b[39mor\u001b[39;00m _global_forward_hooks \u001b[39mor\u001b[39;00m _global_forward_pre_hooks):\n\u001b[0;32m-> 1501\u001b[0m     \u001b[39mreturn\u001b[39;00m forward_call(\u001b[39m*\u001b[39;49margs, \u001b[39m*\u001b[39;49m\u001b[39m*\u001b[39;49mkwargs)\n\u001b[1;32m   1502\u001b[0m \u001b[39m# Do not call functions when jit is used\u001b[39;00m\n\u001b[1;32m   1503\u001b[0m full_backward_hooks, non_full_backward_hooks \u001b[39m=\u001b[39m [], []\n",
      "File \u001b[0;32m~/.pyenv/versions/3.11.4/envs/torchcps/lib/python3.11/site-packages/torch/nn/modules/container.py:217\u001b[0m, in \u001b[0;36mSequential.forward\u001b[0;34m(self, input)\u001b[0m\n\u001b[1;32m    215\u001b[0m \u001b[39mdef\u001b[39;00m \u001b[39mforward\u001b[39m(\u001b[39mself\u001b[39m, \u001b[39minput\u001b[39m):\n\u001b[1;32m    216\u001b[0m     \u001b[39mfor\u001b[39;00m module \u001b[39min\u001b[39;00m \u001b[39mself\u001b[39m:\n\u001b[0;32m--> 217\u001b[0m         \u001b[39minput\u001b[39m \u001b[39m=\u001b[39m module(\u001b[39minput\u001b[39;49m)\n\u001b[1;32m    218\u001b[0m     \u001b[39mreturn\u001b[39;00m \u001b[39minput\u001b[39m\n",
      "File \u001b[0;32m~/.pyenv/versions/3.11.4/envs/torchcps/lib/python3.11/site-packages/torch/nn/modules/module.py:1501\u001b[0m, in \u001b[0;36mModule._call_impl\u001b[0;34m(self, *args, **kwargs)\u001b[0m\n\u001b[1;32m   1496\u001b[0m \u001b[39m# If we don't have any hooks, we want to skip the rest of the logic in\u001b[39;00m\n\u001b[1;32m   1497\u001b[0m \u001b[39m# this function, and just call forward.\u001b[39;00m\n\u001b[1;32m   1498\u001b[0m \u001b[39mif\u001b[39;00m \u001b[39mnot\u001b[39;00m (\u001b[39mself\u001b[39m\u001b[39m.\u001b[39m_backward_hooks \u001b[39mor\u001b[39;00m \u001b[39mself\u001b[39m\u001b[39m.\u001b[39m_backward_pre_hooks \u001b[39mor\u001b[39;00m \u001b[39mself\u001b[39m\u001b[39m.\u001b[39m_forward_hooks \u001b[39mor\u001b[39;00m \u001b[39mself\u001b[39m\u001b[39m.\u001b[39m_forward_pre_hooks\n\u001b[1;32m   1499\u001b[0m         \u001b[39mor\u001b[39;00m _global_backward_pre_hooks \u001b[39mor\u001b[39;00m _global_backward_hooks\n\u001b[1;32m   1500\u001b[0m         \u001b[39mor\u001b[39;00m _global_forward_hooks \u001b[39mor\u001b[39;00m _global_forward_pre_hooks):\n\u001b[0;32m-> 1501\u001b[0m     \u001b[39mreturn\u001b[39;00m forward_call(\u001b[39m*\u001b[39;49margs, \u001b[39m*\u001b[39;49m\u001b[39m*\u001b[39;49mkwargs)\n\u001b[1;32m   1502\u001b[0m \u001b[39m# Do not call functions when jit is used\u001b[39;00m\n\u001b[1;32m   1503\u001b[0m full_backward_hooks, non_full_backward_hooks \u001b[39m=\u001b[39m [], []\n",
      "File \u001b[0;32m~/projects/torchcps/src/torchcps/kernel_cnn.py:194\u001b[0m, in \u001b[0;36mKernelPool.forward\u001b[0;34m(self, input)\u001b[0m\n\u001b[1;32m    191\u001b[0m     \u001b[39mraise\u001b[39;00m \u001b[39mValueError\u001b[39;00m(\u001b[39mf\u001b[39m\u001b[39m\"\u001b[39m\u001b[39mUnknown strategy \u001b[39m\u001b[39m{\u001b[39;00m\u001b[39mself\u001b[39m\u001b[39m.\u001b[39mstrategy\u001b[39m}\u001b[39;00m\u001b[39m.\u001b[39m\u001b[39m\"\u001b[39m)\n\u001b[1;32m    193\u001b[0m \u001b[39m# Find weights for new positions and nonlinearity\u001b[39;00m\n\u001b[0;32m--> 194\u001b[0m output_weights \u001b[39m=\u001b[39m fit_kernel_weights(\n\u001b[1;32m    195\u001b[0m     input_positions,\n\u001b[1;32m    196\u001b[0m     input_weights,\n\u001b[1;32m    197\u001b[0m     output_positions,\n\u001b[1;32m    198\u001b[0m     \u001b[39mself\u001b[39;49m\u001b[39m.\u001b[39;49mkernel,\n\u001b[1;32m    199\u001b[0m     \u001b[39mself\u001b[39;49m\u001b[39m.\u001b[39;49mnonlinearity,\n\u001b[1;32m    200\u001b[0m )\n\u001b[1;32m    201\u001b[0m \u001b[39mreturn\u001b[39;00m RKHS(output_positions, output_weights)\n",
      "File \u001b[0;32m~/projects/torchcps/src/torchcps/kernel_cnn.py:322\u001b[0m, in \u001b[0;36mfit_kernel_weights\u001b[0;34m(input_positions, input_weights, output_positions, kernel, nonlinearity, alpha)\u001b[0m\n\u001b[1;32m    318\u001b[0m \u001b[39massert\u001b[39;00m \u001b[39m0\u001b[39m \u001b[39mnot\u001b[39;00m \u001b[39min\u001b[39;00m K\u001b[39m.\u001b[39mshape, \u001b[39mf\u001b[39m\u001b[39m\"\u001b[39m\u001b[39mK is not invertible with shape: \u001b[39m\u001b[39m{\u001b[39;00mK\u001b[39m.\u001b[39mshape\u001b[39m}\u001b[39;00m\u001b[39m\"\u001b[39m\n\u001b[1;32m    320\u001b[0m formula \u001b[39m=\u001b[39m \u001b[39m\"\u001b[39m\u001b[39mExp(-g * SqDist(x,x)) * a\u001b[39m\u001b[39m\"\u001b[39m\n\u001b[1;32m    321\u001b[0m aliases \u001b[39m=\u001b[39m [\n\u001b[0;32m--> 322\u001b[0m     \u001b[39mf\u001b[39m\u001b[39m\"\u001b[39m\u001b[39mx = Vi(\u001b[39m\u001b[39m{\u001b[39;00m\u001b[39mself\u001b[39;49m\u001b[39m.\u001b[39mn_dimensions\u001b[39m}\u001b[39;00m\u001b[39m)\u001b[39m\u001b[39m\"\u001b[39m,\n\u001b[1;32m    323\u001b[0m ]\n\u001b[1;32m    325\u001b[0m weights \u001b[39m=\u001b[39m K\u001b[39m.\u001b[39msolve(LazyTensor(samples[\u001b[39m.\u001b[39m\u001b[39m.\u001b[39m\u001b[39m.\u001b[39m, :, \u001b[39mNone\u001b[39;00m]), alpha\u001b[39m=\u001b[39malpha)\n\u001b[1;32m    327\u001b[0m \u001b[39mreturn\u001b[39;00m weights\u001b[39m.\u001b[39msqueeze(\u001b[39m-\u001b[39m\u001b[39m1\u001b[39m)\n",
      "\u001b[0;31mNameError\u001b[0m: name 'self' is not defined"
     ]
    }
   ],
   "source": [
    "idx = np.random.randint(0, n_samples)\n",
    "\n",
    "with torch.no_grad():\n",
    "    x = measurements[None, idx, None, ...].cuda()\n",
    "    y = targets[None, idx, None, None, :].cuda()\n",
    "    x_weights = torch.ones(*x.shape[:-1], device=x.device)\n",
    "    y_weights = torch.ones(*y.shape[:-1], device=y.device)\n",
    "\n",
    "    z, z_weights = model((x, x_weights))\n",
    "\n",
    "    # squeeze all the tensors\n",
    "    x = x.squeeze().cpu()\n",
    "    y = y.squeeze().cpu()\n",
    "    z = z.squeeze().cpu()\n",
    "    z_weights = z_weights.squeeze().cpu()\n",
    "\n",
    "    extent = [-50, 50, -50, 50]\n",
    "    # extent = [y[0].item() - 10, y[0].item() + 10, y[1].item() - 10, y[1].item() + 10]\n",
    "    XY = torch.stack(\n",
    "        torch.meshgrid(\n",
    "            [\n",
    "                torch.linspace(-extent[0], extent[1], 100),\n",
    "                torch.linspace(-extent[0], extent[1], 100),\n",
    "            ]\n",
    "        ),\n",
    "        -1,\n",
    "    ).reshape(-1, 2)\n",
    "    kernel = GaussianKernel(kernel_size)\n",
    "    values = kernel(XY, z) @ z_weights\n",
    "    values = values.reshape(100, 100).cpu().numpy()\n",
    "\n",
    "    # naive way to make predictions\n",
    "    input_mean = x.mean(0)\n",
    "    # weigted mean of the cnn output\n",
    "    output_mean = (z * z_weights[:, None]).sum(0) / z_weights.sum()\n",
    "\n",
    "plt.figure()\n",
    "plt.imshow(values.T, extent=extent, origin=\"lower\")\n",
    "\n",
    "plt.plot(*x.T, \".\", label=\"Measurements\")\n",
    "plt.plot(*input_mean, \"o\", label=\"Mean of Measurements\")\n",
    "plt.plot(*output_mean, \"o\", label=\"Mean of CNN output\")\n",
    "plt.plot(*y, \"x\", label=\"Target\")\n",
    "\n",
    "plt.legend()\n",
    "plt.colorbar()\n",
    "plt.show()"
   ]
  }
 ],
 "metadata": {
  "kernelspec": {
   "display_name": "torchcps",
   "language": "python",
   "name": "python3"
  },
  "language_info": {
   "codemirror_mode": {
    "name": "ipython",
    "version": 3
   },
   "file_extension": ".py",
   "mimetype": "text/x-python",
   "name": "python",
   "nbconvert_exporter": "python",
   "pygments_lexer": "ipython3",
   "version": "3.11.4"
  },
  "orig_nbformat": 4
 },
 "nbformat": 4,
 "nbformat_minor": 2
}
